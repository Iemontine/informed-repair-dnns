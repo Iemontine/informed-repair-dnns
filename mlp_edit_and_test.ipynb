{
 "cells": [
  {
   "cell_type": "code",
   "execution_count": null,
   "id": "13a202eb",
   "metadata": {},
   "outputs": [],
   "source": [
    "import models\n",
    "from loader import Loader\n",
    "import torch\n",
    "\n",
    "from edit_heuristics import FromLayerHeuristic, SingleLayerHeuristic\n",
    "from set_heuristics import SetHeuristic, SubsetSetHeuristic\n",
    "\n",
    "ROOT = \"./data\"\n",
    "DEVICE = torch.device(\"cuda\" if torch.cuda.is_available() else \"cpu\")\n",
    "model = models.mlp(path=f'{ROOT}/moon_classifier_mlp.pth')\n",
    "moon_data = torch.load(f\"{ROOT}/moon_dataset.pt\")\n",
    "\n",
    "moon_dataset = torch.utils.data.TensorDataset(moon_data['features'], moon_data['labels'])\n",
    "\n",
    "edit_heuristic = SingleLayerHeuristic(\n",
    "    layer_idx=-1,\n",
    "    lb=-0.1,\n",
    "    ub=0.1,\n",
    ")\n",
    "\n",
    "set_heuristic = SubsetSetHeuristic(\n",
    "    filename=f\"{ROOT}/moon_misclassifications.pt\",\n",
    "    device=DEVICE,\n",
    "    dtype=torch.float32,\n",
    "    indices=torch.tensor([2])\n",
    ")\n",
    "\n",
    "loader = Loader(\n",
    "    model=model,\n",
    "    edit_heuristic=edit_heuristic,\n",
    "    set_heuristic=set_heuristic,\n",
    "    dataset=moon_dataset,\n",
    ")\n",
    "\n",
    "loader.edit_and_test_model()\n",
    "\n"
   ]
  }
 ],
 "metadata": {
  "language_info": {
   "name": "python"
  }
 },
 "nbformat": 4,
 "nbformat_minor": 5
}
